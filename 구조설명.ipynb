{
 "cells": [
  {
   "cell_type": "markdown",
   "source": [
    "#### 파이보 프로젝트를 설정하는 main.py 파일 \n",
    "_______________________________________________________________\n",
    "main.py 파일에 생성한 app 객체는 FastAPI의 핵심 객체이다. app 객체를 통해 FastAPI의 설정을 할 수 있다. main.py는 FastAPI 프로젝트의 전체적인 환경을 설정하는 파일이다.\n",
    "\n",
    "\n",
    "#### 데이터베이스를 설정하는 database.py 파일\n",
    "_______________________________________________________________\n",
    "database.py 파일은 데이터베이스와 관련된 설정을 하는 파일이다. 이 파일에는 데이터베이스를 사용하기 위한 변수, 함수등을 정의하고 접속할 데이터베이스의 주소와 사용자, 비밀번호등을 관리한다.\n",
    "\n",
    "\n",
    "#### 모델을 관리하는 models.py 파일\n",
    "_______________________________________________________________\n",
    "파이보 프로젝트는 ORM(object relational mapping)을 지원하는 파이썬 데이터베이스 도구인 SQLAlchemy를 사용한다. SQLAlchemy는 모델 기반으로 데이터베이스를 처리한다. 지금은 모델 기반으로 데이터베이스를 처리한다는 말이 이해되지 않겠지만, 이후 프로젝트를 진행하면 잘 알 수 있을 것이다. 아무튼 지금 여러분이 알아야 할 내용은 파이보 프로젝트에는 \"모델 클래스들을 정의할 models.py 파일이 필요하다\"는 것이다.\n",
    "\n",
    "\n",
    "#### API를 구성하는 domain 디렉터리\n",
    "_______________________________________________________________\n",
    "파이보 프로젝트는 질문과 답변을 작성하는 게시판을 만드는 것을 최종 목표로 하고 있다. 이에 \"질문\", \"답변\", \"사용자\" 라는 총 3개의 도메인을 두어 그 하위에 관련된 파일을 작성하고자 한다.\n",
    "\n",
    "도메인은 \"질문\", \"답변\", \"사용자\" 처럼 굵직한 요구사항 또는 문제 영역을 대표하는 말이다.\n",
    "\n",
    "질문 (question)\n",
    "답변 (answer)\n",
    "사용자 (user)\n",
    "그리고 각 도메인은 API를 생성하기 위해서 다음과 같은 파일들이 필요하다.\n",
    "\n",
    "라우터 파일 - URL과 API의 전체적인 동작을 관리\n",
    "데이터베이스 처리 파일 - 데이터의 생성(Create), 조회(Read), 수정(Update), 삭제(Delete)를 처리 (CRUD)\n",
    "입출력 관리 파일 - 입력 데이터와 출력 데이터의 스펙 정의 및 검증\n",
    "예를 들어 질문(domain/question) 도메인이라면 다음의 3개 파일이 필요하다.\n",
    "\n",
    "question_router.py - 라우터 파일\n",
    "question_crud.py - 데이터베이스 처리 파일\n",
    "question_schema.py - 입출력 관리 파일"
   ],
   "metadata": {
    "collapsed": false
   },
   "id": "72baf9953303fa8b"
  },
  {
   "cell_type": "code",
   "outputs": [],
   "source": [],
   "metadata": {
    "collapsed": false
   },
   "id": "d903cf90358aa31d"
  }
 ],
 "metadata": {
  "kernelspec": {
   "display_name": "Python 3",
   "language": "python",
   "name": "python3"
  },
  "language_info": {
   "codemirror_mode": {
    "name": "ipython",
    "version": 2
   },
   "file_extension": ".py",
   "mimetype": "text/x-python",
   "name": "python",
   "nbconvert_exporter": "python",
   "pygments_lexer": "ipython2",
   "version": "2.7.6"
  }
 },
 "nbformat": 4,
 "nbformat_minor": 5
}
